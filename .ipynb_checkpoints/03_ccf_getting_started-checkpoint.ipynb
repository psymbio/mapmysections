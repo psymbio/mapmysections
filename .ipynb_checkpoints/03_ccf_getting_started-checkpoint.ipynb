{
 "cells": [
  {
   "cell_type": "code",
   "execution_count": null,
   "id": "0e87a825-6666-4a79-b2e0-5bc7cc419247",
   "metadata": {},
   "outputs": [],
   "source": [
    "https://alleninstitute.github.io/abc_atlas_access/notebooks/getting_started.html\n",
    "\n",
    "https://alleninstitute.github.io/abc_atlas_access/notebooks/merfish_ccf_registration_tutorial.html\n",
    "\n",
    "see: reference/parcellation.csv"
   ]
  }
 ],
 "metadata": {
  "kernelspec": {
   "display_name": "Python 3 (ipykernel)",
   "language": "python",
   "name": "python3"
  },
  "language_info": {
   "codemirror_mode": {
    "name": "ipython",
    "version": 3
   },
   "file_extension": ".py",
   "mimetype": "text/x-python",
   "name": "python",
   "nbconvert_exporter": "python",
   "pygments_lexer": "ipython3",
   "version": "3.10.14"
  }
 },
 "nbformat": 4,
 "nbformat_minor": 5
}
