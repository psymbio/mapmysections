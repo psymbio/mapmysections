{
 "cells": [
  {
   "cell_type": "code",
   "execution_count": 1,
   "id": "bffea449-6b6e-4120-a29e-0adc57c50d56",
   "metadata": {},
   "outputs": [],
   "source": [
    "import pandas as pd\n",
    "import os\n",
    "import boto3\n",
    "from botocore import UNSIGNED\n",
    "from botocore.config import Config\n",
    "s3 = boto3.client('s3', config=Config(signature_version=UNSIGNED))"
   ]
  },
  {
   "cell_type": "code",
   "execution_count": 2,
   "id": "37743e72-d285-4414-82b0-0d78fec299de",
   "metadata": {},
   "outputs": [
    {
     "name": "stdout",
     "output_type": "stream",
     "text": [
      "['README', 'Entrant Information', 'Column Descriptions', 'Training Set', 'Test Set']\n"
     ]
    }
   ],
   "source": [
    "workbook = pd.ExcelFile(\"MapMySections_EntrantData.xlsx\")\n",
    "sheets = workbook.sheet_names\n",
    "print(sheets)"
   ]
  },
  {
   "cell_type": "code",
   "execution_count": 3,
   "id": "85675d14-2f03-4639-9bf7-a4da6f971294",
   "metadata": {},
   "outputs": [
    {
     "name": "stdout",
     "output_type": "stream",
     "text": [
      "s3://allen-genetic-tools/tissuecyte/1285852977/ome_zarr_conversion/1285852977.zarr/ \n",
      "\n",
      "s3://allen-genetic-tools/tissuecyte/1283915380/ome_zarr_conversion/1283915380.zarr/ \n",
      "\n",
      "s3://allen-genetic-tools/tissuecyte/1121585094/ome-zarr/ \n",
      "\n",
      "s3://allen-genetic-tools/tissuecyte/1200969502/ome_zarr_conversion/1200969502.zarr/ \n",
      "\n",
      "s3://allen-genetic-tools/tissuecyte/1177798305/ome_zarr_conversion/1177798305.zarr/ \n",
      "\n",
      "s3://allen-genetic-tools/tissuecyte/1195060569/ome_zarr_conversion/1195060569.zarr/ \n",
      "\n",
      "s3://allen-genetic-tools/tissuecyte/1171819575/ome_zarr_conversion/1171819575.zarr/ \n",
      "\n",
      "s3://allen-genetic-tools/tissuecyte/1238484641/ome_zarr_conversion/1238484641.zarr/ \n",
      "\n",
      "s3://allen-genetic-tools/tissuecyte/1346004262/ome_zarr_conversion/1346004262.zarr/ \n",
      "\n",
      "s3://allen-genetic-tools/tissuecyte/1327365632/ome_zarr_conversion/1327365632.zarr/ \n",
      "\n"
     ]
    }
   ],
   "source": [
    "df = workbook.parse(sheets[3])\n",
    "for index, row in df.iterrows():\n",
    "    if index < 10:\n",
    "        print(row[\"STPT Data File Path\"], \"\\n\")\n",
    "    else:\n",
    "        break"
   ]
  },
  {
   "cell_type": "code",
   "execution_count": null,
   "id": "77234dc2-b4d6-44a8-9584-4ea50d8a667e",
   "metadata": {},
   "outputs": [],
   "source": [
    "bucket_name = 'allen-genetic-tools'\n",
    "prefix = 'tissuecyte/1267695363/ome_zarr_conversion/1267695363.zarr/'\n",
    "local_dir = './1267695363_zarr'\n",
    "\n",
    "os.makedirs(local_dir, exist_ok=True)\n",
    "\n",
    "def download_zarr_directory(bucket, prefix, local_base_dir):\n",
    "    \"\"\"\n",
    "    Recursively download all files in the specified S3 prefix to the local directory,\n",
    "    preserving the folder structure. Skips files that already exist locally.\n",
    "    \"\"\"\n",
    "    paginator = s3.get_paginator('list_objects_v2')\n",
    "    for page in paginator.paginate(Bucket=bucket, Prefix=prefix):\n",
    "        if 'Contents' not in page:\n",
    "            print(f\"No objects found in {prefix}\")\n",
    "            continue\n",
    "        for obj in page['Contents']:\n",
    "            obj_key = obj['Key']\n",
    "            if obj_key.endswith('/'):\n",
    "                continue\n",
    "            relative_path = obj_key[len(prefix):] if obj_key.startswith(prefix) else obj_key\n",
    "            local_file_path = os.path.join(local_base_dir, relative_path)\n",
    "            if os.path.exists(local_file_path):\n",
    "                # print(f\"Skipping {obj_key} - file already exists at {local_file_path}\")\n",
    "                continue\n",
    "            os.makedirs(os.path.dirname(local_file_path), exist_ok=True)\n",
    "            # print(f\"Downloading {obj_key} to {local_file_path}\")\n",
    "            try:\n",
    "                s3.download_file(bucket, obj_key, local_file_path)\n",
    "            except Exception as e:\n",
    "                print(f\"Error downloading {obj_key}: {e}\")\n",
    "\n",
    "download_zarr_directory(bucket_name, prefix, local_dir)\n",
    "print(f\"Zarr dataset downloaded to {local_dir}\")"
   ]
  }
 ],
 "metadata": {
  "kernelspec": {
   "display_name": "Python 3 (ipykernel)",
   "language": "python",
   "name": "python3"
  },
  "language_info": {
   "codemirror_mode": {
    "name": "ipython",
    "version": 3
   },
   "file_extension": ".py",
   "mimetype": "text/x-python",
   "name": "python",
   "nbconvert_exporter": "python",
   "pygments_lexer": "ipython3",
   "version": "3.10.14"
  }
 },
 "nbformat": 4,
 "nbformat_minor": 5
}
